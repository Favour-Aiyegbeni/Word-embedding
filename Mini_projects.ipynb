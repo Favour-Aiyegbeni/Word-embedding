{
  "nbformat": 4,
  "nbformat_minor": 0,
  "metadata": {
    "colab": {
      "name": "Mini projects.ipynb",
      "provenance": [],
      "collapsed_sections": [],
      "authorship_tag": "ABX9TyNBmp/4r5+unMIIY4NSQ/3G",
      "include_colab_link": true
    },
    "kernelspec": {
      "name": "python3",
      "display_name": "Python 3"
    },
    "language_info": {
      "name": "python"
    }
  },
  "cells": [
    {
      "cell_type": "markdown",
      "metadata": {
        "id": "view-in-github",
        "colab_type": "text"
      },
      "source": [
        "<a href=\"https://colab.research.google.com/github/Favour-Aiyegbeni/Word-embedding/blob/main/Mini_projects.ipynb\" target=\"_parent\"><img src=\"https://colab.research.google.com/assets/colab-badge.svg\" alt=\"Open In Colab\"/></a>"
      ]
    },
    {
      "cell_type": "markdown",
      "source": [
        "**To find the Odd Words**"
      ],
      "metadata": {
        "id": "wVidU7zvXHZ4"
      }
    },
    {
      "cell_type": "code",
      "execution_count": 1,
      "metadata": {
        "colab": {
          "base_uri": "https://localhost:8080/"
        },
        "id": "zaHW9WabS5MY",
        "outputId": "245aab6c-0579-49eb-a650-18d92c901e3f"
      },
      "outputs": [
        {
          "metadata": {
            "tags": null
          },
          "name": "stdout",
          "output_type": "stream",
          "text": [
            "--2022-01-24 13:35:03--  https://s3.amazonaws.com/dl4j-distribution/GoogleNews-vectors-negative300.bin.gz\n",
            "Resolving s3.amazonaws.com (s3.amazonaws.com)... 52.217.199.136\n",
            "Connecting to s3.amazonaws.com (s3.amazonaws.com)|52.217.199.136|:443... connected.\n",
            "HTTP request sent, awaiting response... 200 OK\n",
            "Length: 1647046227 (1.5G) [application/x-gzip]\n",
            "Saving to: ‘/root/input/GoogleNews-vectors-negative300.bin.gz’\n",
            "\n",
            "GoogleNews-vectors- 100%[===================>]   1.53G  16.2MB/s    in 1m 40s  \n",
            "\n",
            "2022-01-24 13:36:44 (15.6 MB/s) - ‘/root/input/GoogleNews-vectors-negative300.bin.gz’ saved [1647046227/1647046227]\n",
            "\n"
          ]
        }
      ],
      "source": [
        "!wget -P /root/input/ -c \"https://s3.amazonaws.com/dl4j-distribution/GoogleNews-vectors-negative300.bin.gz\""
      ]
    },
    {
      "cell_type": "code",
      "source": [
        "from gensim.models import KeyedVectors\n",
        "from sklearn.metrics.pairwise import cosine_similarity\n",
        "print('Imported Successfully!')"
      ],
      "metadata": {
        "colab": {
          "base_uri": "https://localhost:8080/"
        },
        "id": "PhfWGnJRS-R6",
        "outputId": "da1affd8-07b2-4a59-e947-88273338dacb"
      },
      "execution_count": 2,
      "outputs": [
        {
          "output_type": "stream",
          "name": "stdout",
          "text": [
            "Imported Successfully!\n"
          ]
        }
      ]
    },
    {
      "cell_type": "code",
      "source": [
        "word_vectors = KeyedVectors.load_word2vec_format('/root/input/GoogleNews-vectors-negative300.bin.gz', binary=True)\n",
        "\n",
        "v_apple = word_vectors['banana']\n",
        "print(v_apple)\n",
        "v_mango = word_vectors['mango']\n",
        "cosine_similarity([v_apple],[v_mango])"
      ],
      "metadata": {
        "colab": {
          "base_uri": "https://localhost:8080/"
        },
        "id": "enblDOUwTgBU",
        "outputId": "ea03ef4f-54d1-4e70-91bc-6a743dca06e2"
      },
      "execution_count": 4,
      "outputs": [
        {
          "output_type": "stream",
          "name": "stdout",
          "text": [
            "[-8.54492188e-02  4.71191406e-02 -6.93359375e-02  3.02734375e-01\n",
            " -1.87500000e-01 -3.19824219e-02  2.95410156e-02 -2.05078125e-01\n",
            " -9.03320312e-02  2.98828125e-01  2.10937500e-01 -6.88476562e-02\n",
            "  4.76074219e-02  5.83496094e-02 -2.75390625e-01  2.42187500e-01\n",
            " -3.22265625e-01  4.73632812e-02 -1.44531250e-01  9.37500000e-02\n",
            "  6.74438477e-03  2.17773438e-01  2.31445312e-01  1.87500000e-01\n",
            "  8.49609375e-02 -5.39550781e-02 -2.65625000e-01  2.23388672e-02\n",
            "  2.24609375e-01  4.12109375e-01 -2.30712891e-02 -1.67968750e-01\n",
            "  1.01928711e-02  2.10937500e-01  1.14135742e-02  2.50000000e-01\n",
            "  8.64257812e-02 -2.16796875e-01  8.93554688e-02  1.50390625e-01\n",
            " -2.03125000e-01 -2.30468750e-01  1.42578125e-01  1.34765625e-01\n",
            " -1.13769531e-01 -1.80664062e-01  3.58886719e-02 -1.69921875e-01\n",
            "  1.55273438e-01  2.39257812e-01 -2.30468750e-01 -9.96093750e-02\n",
            "  1.82617188e-01 -1.81640625e-01 -1.46484375e-01 -7.03125000e-02\n",
            "  9.37500000e-02 -2.67578125e-01  2.17285156e-02 -1.45507812e-01\n",
            " -2.38037109e-02  1.53320312e-01 -9.81445312e-02 -1.69677734e-02\n",
            "  5.00488281e-02 -3.08593750e-01 -3.00781250e-01 -3.20312500e-01\n",
            "  1.18652344e-01 -1.28906250e-01  1.79687500e-01  8.74023438e-02\n",
            " -1.48925781e-02 -9.71679688e-02 -5.62500000e-01  2.50244141e-02\n",
            " -2.08984375e-01 -2.33398438e-01 -9.86328125e-02 -2.22167969e-02\n",
            " -1.13281250e-01  1.17675781e-01 -1.56250000e-01 -1.03515625e-01\n",
            "  6.22558594e-02 -2.04101562e-01  2.75878906e-02  2.57812500e-01\n",
            " -1.89453125e-01 -6.29882812e-02 -2.94921875e-01  1.64062500e-01\n",
            "  2.21252441e-04 -1.40625000e-01 -2.45361328e-02 -6.73828125e-02\n",
            " -4.76074219e-02  2.57568359e-02  2.92968750e-01 -4.41894531e-02\n",
            " -2.26562500e-01 -3.07617188e-02  3.66210938e-02  1.00585938e-01\n",
            " -8.10546875e-02  7.76367188e-02  1.94335938e-01 -1.09863281e-01\n",
            " -2.59765625e-01 -1.41601562e-01 -2.67578125e-01 -2.39257812e-01\n",
            " -2.34375000e-01  6.59179688e-02 -2.96875000e-01 -1.22680664e-02\n",
            "  1.44531250e-01 -2.38281250e-01  2.38037109e-02  2.81982422e-02\n",
            " -5.12695312e-02 -1.06445312e-01 -1.22070312e-01 -2.33398438e-01\n",
            " -1.75781250e-01  1.24023438e-01  1.94091797e-02 -1.08886719e-01\n",
            "  1.19628906e-01  3.73046875e-01 -2.48046875e-01 -1.38671875e-01\n",
            " -1.33789062e-01 -2.65625000e-01 -2.71484375e-01  2.67578125e-01\n",
            " -5.22460938e-02  4.68750000e-02  1.42578125e-01 -2.57812500e-01\n",
            " -1.46484375e-01 -4.02343750e-01 -7.95898438e-02  3.39355469e-02\n",
            "  1.06445312e-01  8.64257812e-02  1.00585938e-01  6.39648438e-02\n",
            " -1.69921875e-01  2.67578125e-01  4.85839844e-02 -1.90429688e-01\n",
            " -3.22265625e-01  1.03027344e-01  4.19921875e-02 -6.37817383e-03\n",
            " -1.96289062e-01 -1.04003906e-01  1.04492188e-01 -1.68945312e-01\n",
            " -3.14453125e-01  2.16674805e-03  1.27929688e-01  9.17968750e-02\n",
            " -1.25976562e-01 -2.12097168e-03  1.94335938e-01 -1.42578125e-01\n",
            " -1.56250000e-01 -5.44433594e-02 -9.13085938e-02  1.52343750e-01\n",
            " -2.55126953e-02 -2.38281250e-01 -4.14062500e-01 -1.99218750e-01\n",
            "  1.73828125e-01 -8.25195312e-02  6.88476562e-02  2.69531250e-01\n",
            " -9.17968750e-02 -8.10546875e-02 -2.45117188e-01  2.53906250e-01\n",
            " -1.96838379e-03  5.05371094e-02  4.66308594e-02  2.63671875e-02\n",
            "  2.23632812e-01 -1.89453125e-01  1.04003906e-01 -2.80761719e-02\n",
            "  4.00390625e-02 -2.07031250e-01  4.06250000e-01  4.49218750e-01\n",
            " -3.32031250e-02 -2.24609375e-01 -1.28906250e-01 -2.86865234e-02\n",
            "  2.08984375e-01 -2.18750000e-01  6.07910156e-02  1.25000000e-01\n",
            "  4.37011719e-02  7.17773438e-02  3.14941406e-02  1.23535156e-01\n",
            " -8.23974609e-03 -4.32128906e-02 -2.31445312e-01  7.37304688e-02\n",
            " -1.51367188e-01  1.52343750e-01  2.08007812e-01 -1.63085938e-01\n",
            " -2.20703125e-01 -2.96875000e-01  1.46484375e-01  3.16406250e-01\n",
            "  9.47265625e-02 -7.03125000e-02 -2.06054688e-01 -3.06396484e-02\n",
            " -1.22070312e-01 -2.47070312e-01  9.13085938e-02  1.22558594e-01\n",
            "  4.10156250e-01  1.22558594e-01  3.80859375e-02 -8.64257812e-02\n",
            " -4.27246094e-02  4.12597656e-02 -1.30859375e-01 -1.11328125e-01\n",
            " -1.15966797e-02 -1.60156250e-01  2.63671875e-01  5.37109375e-02\n",
            "  3.11279297e-02 -2.53906250e-01  6.12792969e-02  5.02929688e-02\n",
            "  3.68652344e-02 -2.83203125e-01 -3.63281250e-01  2.78320312e-02\n",
            "  1.28906250e-01 -1.85546875e-01 -1.03515625e-01 -1.29882812e-01\n",
            "  3.69140625e-01 -1.31835938e-01 -4.22363281e-02 -3.98437500e-01\n",
            "  1.08642578e-02 -1.95312500e-01 -1.49414062e-01 -4.95605469e-02\n",
            " -7.91015625e-02  2.50000000e-01 -2.05078125e-01  2.65625000e-01\n",
            " -1.19628906e-02 -1.37695312e-01 -1.73828125e-01  3.35937500e-01\n",
            " -1.28906250e-01 -2.55859375e-01 -1.89453125e-01  1.61132812e-01\n",
            "  2.23632812e-01 -1.08886719e-01 -8.05664062e-03  1.82617188e-01\n",
            " -1.90429688e-01 -1.69677734e-02 -6.83593750e-02  3.04687500e-01\n",
            "  1.79687500e-01  1.65039062e-01  5.85937500e-02 -1.02050781e-01\n",
            "  6.68945312e-02 -7.61718750e-02 -3.33984375e-01  6.34765625e-02\n",
            " -9.76562500e-02  1.71875000e-01 -1.77734375e-01 -8.25195312e-02\n",
            "  3.85742188e-02 -2.94921875e-01  5.52368164e-03  5.44433594e-02\n",
            " -9.47265625e-02  1.26953125e-01  1.17187500e-01  1.77734375e-01]\n"
          ]
        },
        {
          "output_type": "execute_result",
          "data": {
            "text/plain": [
              "array([[0.63652116]], dtype=float32)"
            ]
          },
          "metadata": {},
          "execution_count": 4
        }
      ]
    },
    {
      "cell_type": "code",
      "source": [
        "def odd_one_out(words,word_vectors):\n",
        "\n",
        "  all_word_vectors = [word_vectors[w] for w in words]\n",
        "  avg_vector = np.mean(all_word_vectors, axis = 0)\n",
        "  odd_one_out = None\n",
        "  min_sim = 1.0\n",
        "  \n",
        "  for w in words:\n",
        "    sim = cosine_similarity([word_vectors[w]],[avg_vector])\n",
        "    if sim < min_sim:\n",
        "      min_sim = sim\n",
        "      odd_one_out = w\n",
        "\n",
        "  return odd_one_out\n",
        "\n",
        "print(\"Function Created Successfully!\")"
      ],
      "metadata": {
        "colab": {
          "base_uri": "https://localhost:8080/"
        },
        "id": "ijiV41MUT0nZ",
        "outputId": "6f42a6cb-9394-448f-a3ed-770dd8ea4fe2"
      },
      "execution_count": 4,
      "outputs": [
        {
          "output_type": "stream",
          "name": "stdout",
          "text": [
            "Function Created Successfully!\n"
          ]
        }
      ]
    },
    {
      "cell_type": "code",
      "source": [
        "import numpy as np"
      ],
      "metadata": {
        "id": "IOqBoHnIWRAQ"
      },
      "execution_count": 5,
      "outputs": []
    },
    {
      "cell_type": "code",
      "source": [
        "word_vectors = KeyedVectors.load_word2vec_format('/root/input/GoogleNews-vectors-negative300.bin.gz', binary=True)\n",
        "list_of_words = [\"apple\",\"mango\",\"party\",\"juice\",\"orange\"]\n",
        "\n",
        "print(odd_one_out(list_of_words,word_vectors))"
      ],
      "metadata": {
        "colab": {
          "base_uri": "https://localhost:8080/"
        },
        "id": "H9rmWnD0Vmpc",
        "outputId": "df1a9005-4dfe-4dc1-9f9a-d8fd841966b7"
      },
      "execution_count": 6,
      "outputs": [
        {
          "output_type": "stream",
          "name": "stdout",
          "text": [
            "party\n"
          ]
        }
      ]
    },
    {
      "cell_type": "markdown",
      "source": [
        "**WORD ANALOGY**"
      ],
      "metadata": {
        "id": "kN9EZJ2QXfRC"
      }
    },
    {
      "cell_type": "code",
      "source": [
        "def word_analogies(A,B,C,word_vectors):\n",
        "  \n",
        "  A,B,C = A.lower(), B.lower(), C.lower()\n",
        "  max_sim = -100\n",
        "  D = None\n",
        "  words = word_vectors.vocab.keys()\n",
        "  WA,WB,WC = word_vectors[A],word_vectors[B],word_vectors[C]\n",
        "\n",
        "  for w in words:\n",
        "    if w in [A,B,C]:\n",
        "      continue\n",
        "\n",
        "    w_vector = word_vectors[w]\n",
        "    sim = cosine_similarity([WB-WA], [w_vector - WC])\n",
        "    if sim > max_sim:\n",
        "      max_sim = sim\n",
        "      D = w\n",
        "\n",
        "  return D\n",
        "\n",
        "print(\"Function Created Successfully!\")"
      ],
      "metadata": {
        "colab": {
          "base_uri": "https://localhost:8080/"
        },
        "id": "i09bOz0TXjGI",
        "outputId": "9904add9-75b3-4bf7-e667-22c6976505d1"
      },
      "execution_count": 4,
      "outputs": [
        {
          "output_type": "stream",
          "name": "stdout",
          "text": [
            "Function Created Successfully!\n"
          ]
        }
      ]
    },
    {
      "cell_type": "code",
      "source": [
        "word_vectors = KeyedVectors.load_word2vec_format('/root/input/GoogleNews-vectors-negative300.bin.gz', binary=True)\n",
        "D = word_analogies(\"Man\",\"Woman\",\"King\",word_vectors)\n",
        "print(D)"
      ],
      "metadata": {
        "colab": {
          "base_uri": "https://localhost:8080/"
        },
        "id": "Zge_gukeZIvK",
        "outputId": "652f71e1-18ee-46df-c7da-9c21afc65116"
      },
      "execution_count": 5,
      "outputs": [
        {
          "output_type": "stream",
          "name": "stdout",
          "text": [
            "queen\n"
          ]
        }
      ]
    },
    {
      "cell_type": "code",
      "source": [
        ""
      ],
      "metadata": {
        "id": "vbZm0bdFZWD5"
      },
      "execution_count": null,
      "outputs": []
    }
  ]
}